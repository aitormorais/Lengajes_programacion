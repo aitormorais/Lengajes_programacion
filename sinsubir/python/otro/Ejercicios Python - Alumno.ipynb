{
 "cells": [
  {
   "cell_type": "markdown",
   "id": "6bc48061-3377-44ca-83a7-4493e63039c8",
   "metadata": {},
   "source": [
    "<img src=\"./files/universidad-nebrija.jpg\" alt=\"Logo Nebrija\" align=\"right\" width=200>\n",
    "\n",
    "\n",
    "<h2><font color=\"#004D7F\" size=4>Lenguajes de Programación</font></h2>\n",
    "\n",
    "<h1><font color=\"#004D7F\" size=5>Ejercicios Python</font></h1>\n",
    "\n",
    "<br><br>\n",
    "<div style=\"text-align: right\">\n",
    "<font color=\"#004D7F\" size=3>José Javier Paulet González</font><br>\n",
    "<font color=\"#004D7F\" size=3>20/02/2024</font><br>\n",
    "<font color=\"#004D7F\" size=3>Universidad Antonio de Nebrija</font>\n",
    "\n",
    "</div>\n",
    "\n",
    "---"
   ]
  },
  {
   "cell_type": "markdown",
   "id": "8bb2ee13-a10a-47d7-9eb7-c53a0129868f",
   "metadata": {},
   "source": [
    "1. Crea una función llamada calculadora que tome tres argumentos: dos números y una cadena que represente la operación a realizar (\"suma\", \"resta\", \"multiplicacion\" o \"division\"). La función debe devolver el resultado de la operación seleccionada o lanzar una excepción si la operación no está soportada."
   ]
  },
  {
   "cell_type": "code",
   "execution_count": 28,
   "id": "3f2c63c7-a6cd-46d5-af1f-92c9d673c719",
   "metadata": {},
   "outputs": [
    {
     "ename": "Exception",
     "evalue": "Operación no soportada",
     "output_type": "error",
     "traceback": [
      "\u001b[1;31m---------------------------------------------------------------------------\u001b[0m",
      "\u001b[1;31mKeyError\u001b[0m                                  Traceback (most recent call last)",
      "Cell \u001b[1;32mIn[28], line 5\u001b[0m, in \u001b[0;36mcalculadora\u001b[1;34m(numero1, numero2, operacion)\u001b[0m\n\u001b[0;32m      4\u001b[0m \u001b[38;5;28;01mtry\u001b[39;00m:\n\u001b[1;32m----> 5\u001b[0m     \u001b[38;5;28;01mreturn\u001b[39;00m \u001b[43md\u001b[49m\u001b[43m[\u001b[49m\u001b[43moperacion\u001b[49m\u001b[43m]\u001b[49m(numero1, numero2)\n\u001b[0;32m      6\u001b[0m \u001b[38;5;28;01mexcept\u001b[39;00m:\n",
      "\u001b[1;31mKeyError\u001b[0m: 'diveision'",
      "\nDuring handling of the above exception, another exception occurred:\n",
      "\u001b[1;31mException\u001b[0m                                 Traceback (most recent call last)",
      "Cell \u001b[1;32mIn[28], line 11\u001b[0m\n\u001b[0;32m      9\u001b[0m operacion \u001b[38;5;241m=\u001b[39m \u001b[38;5;124m\"\u001b[39m\u001b[38;5;124mdiveision\u001b[39m\u001b[38;5;124m\"\u001b[39m\n\u001b[0;32m     10\u001b[0m numero1, numero2 \u001b[38;5;241m=\u001b[39m \u001b[38;5;241m4\u001b[39m, \u001b[38;5;241m7\u001b[39m\n\u001b[1;32m---> 11\u001b[0m \u001b[43mcalculadora\u001b[49m\u001b[43m(\u001b[49m\u001b[43mnumero1\u001b[49m\u001b[43m,\u001b[49m\u001b[43m \u001b[49m\u001b[43mnumero2\u001b[49m\u001b[43m,\u001b[49m\u001b[43m \u001b[49m\u001b[43moperacion\u001b[49m\u001b[43m)\u001b[49m\n",
      "Cell \u001b[1;32mIn[28], line 7\u001b[0m, in \u001b[0;36mcalculadora\u001b[1;34m(numero1, numero2, operacion)\u001b[0m\n\u001b[0;32m      5\u001b[0m     \u001b[38;5;28;01mreturn\u001b[39;00m d[operacion](numero1, numero2)\n\u001b[0;32m      6\u001b[0m \u001b[38;5;28;01mexcept\u001b[39;00m:\n\u001b[1;32m----> 7\u001b[0m     \u001b[38;5;28;01mraise\u001b[39;00m \u001b[38;5;167;01mException\u001b[39;00m(\u001b[38;5;124m\"\u001b[39m\u001b[38;5;124mOperación no soportada\u001b[39m\u001b[38;5;124m\"\u001b[39m)\n",
      "\u001b[1;31mException\u001b[0m: Operación no soportada"
     ]
    }
   ],
   "source": [
    "d = {\"suma\": lambda a, b: a + b, \"resta\": lambda a, b: a - b, \"multiplicacion\": lambda a, b: a * b, \"division\": lambda a, b: a / b}\n",
    "\n",
    "def calculadora(numero1, numero2, operacion):\n",
    "    try:\n",
    "        return d[operacion](numero1, numero2)\n",
    "    except:\n",
    "        raise Exception(\"Operación no soportada\")\n",
    "\n",
    "operacion = \"diveision\"\n",
    "numero1, numero2 = 4, 7\n",
    "calculadora(numero1, numero2, operacion)"
   ]
  },
  {
   "cell_type": "code",
   "execution_count": null,
   "id": "8393938c-39d9-4b6c-8d17-ae1907eb2a70",
   "metadata": {},
   "outputs": [],
   "source": [
    "\n",
    "\n",
    "def calculadora(numero1, numero2, operacion):\n",
    "    if operacion == \"suma\":\n",
    "        return numero1 + numero2\n",
    "    elif operacion == \"resta\":\n",
    "        return numero1 - numero2\n",
    "    elif operacion == \"multiplicacion\":\n",
    "        return numero1 * numero2\n",
    "    elif operacion == \"division\":\n",
    "        return numero1 / numero2\n",
    "    else:\n",
    "        raise Exception(\"Operación no soportada\")\n",
    "\n",
    "calculadora(2, 3, \"suma\")"
   ]
  },
  {
   "cell_type": "markdown",
   "id": "cd804f6f-c1f2-42d2-a590-e5da48c1cad7",
   "metadata": {},
   "source": [
    "2. Calcular la operación $base^{exponente}$ únicamente con el operador suma $+$. $base$ y $exponente$ tendrán siempre valores positivos. "
   ]
  },
  {
   "cell_type": "code",
   "execution_count": 26,
   "id": "0622c97d-0814-43dc-977c-e5f7f39b1e92",
   "metadata": {},
   "outputs": [
    {
     "data": {
      "text/plain": [
       "1024"
      ]
     },
     "execution_count": 26,
     "metadata": {},
     "output_type": "execute_result"
    }
   ],
   "source": [
    "#def multiplicacion(a, b):\n",
    "#    resultado = 0\n",
    "#    for _ in range(a):\n",
    "#        resultado = resultado + b\n",
    "#    return resultado\n",
    "\n",
    "#def multiplicacion(a, b):\n",
    "#    return sum([b for _ in range(a)])\n",
    "\n",
    "def multiplicacion(a, b):\n",
    "    if a == 1:\n",
    "        return b\n",
    "    else:\n",
    "        return b + multiplicacion(a - 1, b)\n",
    "\n",
    "def potencia(base, exponente):\n",
    "    resultado = base\n",
    "    for _ in range(exponente - 1):\n",
    "        resultado = multiplicacion(resultado, base)\n",
    "    return resultado\n",
    "\n",
    "potencia(2, 10)\n",
    "#multiplicacion(5, 5)"
   ]
  },
  {
   "cell_type": "markdown",
   "id": "47729eb4-a4ad-4076-8a6f-b2ab5b5fa690",
   "metadata": {},
   "source": [
    "3. Crea una función llamada contador_palabras que tome una cadena de texto como argumento y devuelva el número de palabras en esa cadena. Las palabras están separadas por espacios en blanco."
   ]
  },
  {
   "cell_type": "code",
   "execution_count": 29,
   "id": "d0e4a64b-f811-4046-9448-7d7f43704262",
   "metadata": {},
   "outputs": [
    {
     "data": {
      "text/plain": [
       "30"
      ]
     },
     "execution_count": 29,
     "metadata": {},
     "output_type": "execute_result"
    }
   ],
   "source": [
    "def contador_palabras(cadena):\n",
    "    return len(cadena.split(\" \"))\n",
    "\n",
    "contador_palabras(\"Crea una función llamada contador_palabras que tome una cadena de texto como argumento y devuelva el número de palabras en esa cadena. Las palabras están separadas por espacios en blanco.\")"
   ]
  },
  {
   "cell_type": "markdown",
   "id": "f83a5b41-d411-4bfe-8958-15ed7a63e22b",
   "metadata": {},
   "source": [
    "4. Crear una clase \"Pila\" que tenga 2 métodos \"get\" y \"put\". Estos métodos tienen que funcionar como una pila, el método \"get\" deberá devolver el último elemento introducido y el método \"put\" deberá introducir el elemento en última posición."
   ]
  },
  {
   "cell_type": "code",
   "execution_count": 32,
   "id": "0ceaf87d-c22f-4303-9bd4-f8f77e107d89",
   "metadata": {},
   "outputs": [
    {
     "name": "stdout",
     "output_type": "stream",
     "text": [
      "3\n",
      "[1, 2, 4] 4\n"
     ]
    }
   ],
   "source": [
    "class Pila:\n",
    "    elementos = None\n",
    "    def __init__(self, lista=[]):\n",
    "        self.elementos = lista\n",
    "\n",
    "    def get(self):\n",
    "        elemento = self.elementos[-1]\n",
    "        self.elementos = self.elementos[:-1]\n",
    "        return elemento\n",
    "        \n",
    "    def put(self, elemento):\n",
    "        self.elementos.append(elemento)\n",
    "\n",
    "pila = Pila([1, 2, 3])\n",
    "elemento = pila.get()\n",
    "pila.put(4)\n",
    "\n",
    "print(elemento)\n",
    "print(pila.elementos, pila.get())"
   ]
  },
  {
   "cell_type": "markdown",
   "id": "b2283bed-c1e3-4bc9-b0f7-cf70eb33502a",
   "metadata": {},
   "source": [
    "5. Crear una clase \"Cola\" que tenga 2 métodos \"get\" y \"put\". Estos métodos tienen que funcionar como una cola, el método \"get\" deberá devolver el primer elemento introducido y el método \"put\" deberá introducir el elemento en última posición."
   ]
  },
  {
   "cell_type": "code",
   "execution_count": 35,
   "id": "4060408a-a81b-4d0a-858b-0f013692eb2d",
   "metadata": {},
   "outputs": [
    {
     "name": "stdout",
     "output_type": "stream",
     "text": [
      "1\n",
      "[2, 3, 4]\n",
      "2 [3, 4]\n"
     ]
    }
   ],
   "source": [
    "class Cola:\n",
    "    \n",
    "    elementos = None\n",
    "    \n",
    "    def __init__(self, lista=[]):\n",
    "        self.elementos = lista\n",
    "        \n",
    "    def get(self):\n",
    "        self.elementos, elemento = self.elementos[1:], self.elementos[0]\n",
    "        return elemento\n",
    "\n",
    "    def put(self, elemento):\n",
    "        self.elementos.append(elemento)\n",
    "        #self.elementos = self.elementos + [elemento]\n",
    "\n",
    "cola = Cola([1, 2, 3])\n",
    "elemento = cola.get()\n",
    "cola.put(4)\n",
    "print(elemento)\n",
    "print(cola.elementos)\n",
    "print(cola.get(), cola.elementos)"
   ]
  },
  {
   "cell_type": "markdown",
   "id": "d0466134-5c50-49c7-8f51-3d8f90ebca78",
   "metadata": {},
   "source": [
    "5. Escribe un programa que busque un número específico en una lista de números. Si el número está presente en la lista, el programa debe devolver el índice de la primera posición en la que aparezca el elemento, de lo contrario, debe devolver None."
   ]
  },
  {
   "cell_type": "code",
   "execution_count": 50,
   "id": "9109bd27-2472-4733-85d5-70898800ae21",
   "metadata": {},
   "outputs": [
    {
     "name": "stdout",
     "output_type": "stream",
     "text": [
      "1\n"
     ]
    }
   ],
   "source": [
    "'''def en_lista(lista, elemento):\n",
    "    if elemento not in lista:\n",
    "        return None\n",
    "    else:\n",
    "        encontrado = [0, 0]\n",
    "        while not encontrado[0]:\n",
    "            if lista[encontrado[1]] == elemento:\n",
    "                encontrado[0] = 1\n",
    "            else:\n",
    "                encontrado[1] += 1\n",
    "        return encontrado[1]'''\n",
    "\n",
    "'''def en_lista(lista, elemento):\n",
    "    for valor, indice in enumerate(lista):\n",
    "        print(valor, indice)\n",
    "        if valor == elemento:\n",
    "            return indice - 1\n",
    "    return None'''\n",
    "\n",
    "def en_lista(lista, elemento):\n",
    "    try:\n",
    "        indice = lista.index(elemento)\n",
    "    except:\n",
    "        return None\n",
    "    else:\n",
    "        return indice\n",
    "    \n",
    "lista = [1, 2, 4, 5, 3, 4, 5, 3, 2, 234]\n",
    "print(en_lista(lista, 2))"
   ]
  },
  {
   "cell_type": "markdown",
   "id": "bd998d43-d862-469a-9ecf-a64c7d9e9166",
   "metadata": {},
   "source": [
    "6. Escribe un programa que calcule el factorial de un número. Siendo el factorial de $n!=n\\cdot n-1\\cdot \\ldots \\cdot 1$."
   ]
  },
  {
   "cell_type": "code",
   "execution_count": 53,
   "id": "888667bf-a43a-4af8-8120-776b3f96d3b3",
   "metadata": {},
   "outputs": [
    {
     "name": "stdin",
     "output_type": "stream",
     "text": [
      "Ingresa un número para calcular su factorial:  5\n"
     ]
    },
    {
     "name": "stdout",
     "output_type": "stream",
     "text": [
      "El factorial de 5 es 120\n"
     ]
    }
   ],
   "source": [
    "def factorial(numero):\n",
    "    if numero == 1:\n",
    "        return 1\n",
    "    else:\n",
    "        return numero * factorial(numero - 1)\n",
    "\n",
    "def factorial(numero):\n",
    "    resultado = 1\n",
    "    for i in range(1, numero + 1):\n",
    "        resultado = resultado * i\n",
    "    return resultado\n",
    "    \n",
    "\n",
    "numero = int(input(\"Ingresa un número para calcular su factorial: \"))\n",
    "resultado = factorial(numero)\n",
    "print(\"El factorial de\", numero, \"es\", resultado)"
   ]
  },
  {
   "cell_type": "markdown",
   "id": "8d3d09cd-606b-431d-bcec-9deb97e6830b",
   "metadata": {},
   "source": [
    "7. Escribe una función que tome una cadena como entrada y devuelva True si es un palíndromo (es decir, se lee igual de izquierda a derecha que de derecha a izquierda) y False en caso contrario."
   ]
  },
  {
   "cell_type": "code",
   "execution_count": 66,
   "id": "d60795a4-f338-435c-a1e4-1017867b0242",
   "metadata": {},
   "outputs": [
    {
     "data": {
      "text/plain": [
       "False"
      ]
     },
     "execution_count": 66,
     "metadata": {},
     "output_type": "execute_result"
    }
   ],
   "source": [
    "def es_palindromo(cadena):\n",
    "    l = len(cadena)\n",
    "    if l % 2 == 0:\n",
    "        for i in range(int(l/2)):\n",
    "            if cadena[i] != cadena[l-1-i]:\n",
    "                return False\n",
    "        return True\n",
    "    else:\n",
    "        for i in range(int((l-1)/2)):\n",
    "            if cadena[i] != cadena[l-1-i]:\n",
    "                return False\n",
    "        return True\n",
    "\n",
    "def es_palindromo(cadena):\n",
    "    l = len(cadena) // 2\n",
    "    return cadena[:l] == cadena[::-1][:l]\n",
    "\n",
    "def es_palindromo(cadena):\n",
    "    return cadena[:] == cadena[::-1][:]\n",
    "\n",
    "es_palindromo = lambda cadena: cadena[:] == cadena[::-1][:]\n",
    "\n",
    "es_palindromo(\"12222211\")"
   ]
  },
  {
   "cell_type": "markdown",
   "id": "a5777e67-529f-43dc-9f05-23b181aa8d8e",
   "metadata": {},
   "source": [
    "8. Escribe una función que tome un número entero y devuelva la suma de sus dígitos."
   ]
  },
  {
   "cell_type": "code",
   "execution_count": 71,
   "id": "2635be94-1213-4df0-90b1-ba99262f18b5",
   "metadata": {},
   "outputs": [
    {
     "data": {
      "text/plain": [
       "15"
      ]
     },
     "execution_count": 71,
     "metadata": {},
     "output_type": "execute_result"
    }
   ],
   "source": [
    "def suma_digitos(numero):\n",
    "    suma = 0\n",
    "    for i in str(numero):\n",
    "        suma += int(i)\n",
    "    return suma\n",
    "\n",
    "def suma_digitos(numero):\n",
    "    return sum(map(int, list(str(numero))))\n",
    "    \n",
    "suma_digitos(101333310)"
   ]
  },
  {
   "cell_type": "markdown",
   "id": "7e6a0ab7-8957-48c9-9327-9909debc86c2",
   "metadata": {},
   "source": [
    "9. Escribe una función que tome una lista de números y devuelva su promedio. La entrada a la función no puede ser una lista, deben ser tantos argumentos como números haya que sumar."
   ]
  },
  {
   "cell_type": "code",
   "execution_count": 79,
   "id": "d0de87f9-a21b-4f48-b287-d8eb784253dc",
   "metadata": {},
   "outputs": [
    {
     "name": "stdout",
     "output_type": "stream",
     "text": [
      "(1, 2, 8, 8)\n",
      "{'a': 1, 'b': 6}\n"
     ]
    },
    {
     "data": {
      "text/plain": [
       "4.75"
      ]
     },
     "execution_count": 79,
     "metadata": {},
     "output_type": "execute_result"
    }
   ],
   "source": [
    "#def promedio(lista):\n",
    "#    return sum(lista) / len(lista)\n",
    "\n",
    "def promedio(*arg, **kwarg):\n",
    "    print(arg)\n",
    "    print(kwarg)\n",
    "    return sum(arg) / len(arg)\n",
    "\n",
    "lista = [1, 2, 8, 8]\n",
    "d = {'a': 1, 'b': 6}\n",
    "promedio(*lista, **d)"
   ]
  },
  {
   "cell_type": "markdown",
   "id": "0ffaa2b2-55be-4d20-8863-86360fc17fa0",
   "metadata": {},
   "source": [
    "10. Escribe una función que tome una cadena como entrada y determine si es un pangrama (es decir, contiene al menos una vez cada letra del alfabeto)."
   ]
  },
  {
   "cell_type": "code",
   "execution_count": 84,
   "id": "910a3977-e7b8-45b0-9bd1-e561f4553187",
   "metadata": {},
   "outputs": [
    {
     "data": {
      "text/plain": [
       "True"
      ]
     },
     "execution_count": 84,
     "metadata": {},
     "output_type": "execute_result"
    }
   ],
   "source": [
    "def es_pangrama(cadena):\n",
    "    alfabeto = \"abcdefghijklmnñopqrstuvwxyz\"\n",
    "    for letra in alfabeto:\n",
    "        if letra in cadena:\n",
    "            pass\n",
    "        else:\n",
    "            return False\n",
    "    return True\n",
    "    \n",
    "def es_pangrama(cadena):\n",
    "    alfabeto = \"abcdefghijklmnñopqrstuvwxyz\"\n",
    "    for letra in alfabeto:\n",
    "        if letra not in cadena:\n",
    "            return False\n",
    "    return True\n",
    "\n",
    "def es_pangrama(cadena):\n",
    "    alfabeto = \"abcdefghijklmnñopqrstuvwxyz\"\n",
    "    return set(alfabeto).issubset(set(cadena))\n",
    "\n",
    "\n",
    "es_pangrama('El veloz murciélago hindú comía feliz cardillo y kiwi. La cigüeña tocaba el saxofón detrás del palenque de paja.')"
   ]
  },
  {
   "cell_type": "code",
   "execution_count": null,
   "id": "9186b943-afaa-4ab8-89a4-a458fcefc577",
   "metadata": {},
   "outputs": [],
   "source": []
  }
 ],
 "metadata": {
  "kernelspec": {
   "display_name": "Python 3 (ipykernel)",
   "language": "python",
   "name": "python3"
  },
  "language_info": {
   "codemirror_mode": {
    "name": "ipython",
    "version": 3
   },
   "file_extension": ".py",
   "mimetype": "text/x-python",
   "name": "python",
   "nbconvert_exporter": "python",
   "pygments_lexer": "ipython3",
   "version": "3.9.18"
  }
 },
 "nbformat": 4,
 "nbformat_minor": 5
}
