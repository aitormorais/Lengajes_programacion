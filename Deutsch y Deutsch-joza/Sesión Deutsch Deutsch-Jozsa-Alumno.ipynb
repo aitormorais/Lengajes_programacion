{
 "cells": [
  {
   "cell_type": "markdown",
   "metadata": {},
   "source": [
    "<img src=\"./files/universidad-nebrija.jpg\" alt=\"Logo Nebrija\" align=\"right\" width=200>\n",
    "\n",
    "\n",
    "<h2><font color=\"#004D7F\" size=4>Lenguajes de Programación</font></h2>\n",
    "\n",
    "<h1><font color=\"#004D7F\" size=5>Algoritmo de Deutsch y Deutsch-Jozsa</font></h1>\n",
    "\n",
    "<br><br>\n",
    "<div style=\"text-align: right\">\n",
    "<font color=\"#004D7F\" size=3>José Javier Paulet González</font><br>\n",
    "<font color=\"#004D7F\" size=3>28/02/2024</font><br>\n",
    "<font color=\"#004D7F\" size=3>Universidad Antonio de Nebrija</font>\n",
    "\n",
    "</div>\n",
    "$$ \\newcommand{\\ket}[1]{|#1\\rangle} $$\n",
    "$ \\newcommand{\\bra}[1]{\\langle #1|} $\n",
    "$ \\newcommand{\\braket}[2]{\\langle #1|#2\\rangle} $\n",
    "\n",
    "---"
   ]
  },
  {
   "cell_type": "markdown",
   "metadata": {},
   "source": [
    "<h1><font color=\"#004D7F\" size=15>Algoritmo de Deutsch</font></h1>"
   ]
  },
  {
   "cell_type": "markdown",
   "metadata": {},
   "source": [
    " - Determina si una función es constante o balanceada.\n",
    "\n",
    " - Evalúa funciones de una sola entrada binaria y una sola salida binaria.\n",
    " \n",
    " - La función es constante si obtenemos como resultado un **0** en el qubit de entrada y es balanceada si obtenemos un **1**.\n"
   ]
  },
  {
   "cell_type": "markdown",
   "metadata": {},
   "source": [
    "<h1><font color=\"#003D7F\" size=5>Pasos del algoritmo</font></h1>"
   ]
  },
  {
   "cell_type": "markdown",
   "metadata": {},
   "source": [
    "Consiste en:\n",
    "1. Generación de la superposición de estados\n",
    "2. La aplicación del operador Oráculo.\n",
    "3. La aplicación de puertas Hadamard.\n",
    "    \n",
    "<img src=\"./files/esquema-deutsch.png\" alt=\"Circuito Deutsch\" align=\"center\">"
   ]
  },
  {
   "cell_type": "markdown",
   "metadata": {},
   "source": [
    "<h1><font color=\"#003D7F\" size=5>Ejercicio</font></h1>"
   ]
  },
  {
   "cell_type": "markdown",
   "metadata": {},
   "source": [
    "Evaluar si la siguiente función se trata de una función constante o balanceada:\n",
    "\n",
    "$$f(x)=\\overline{x}$$"
   ]
  },
  {
   "cell_type": "markdown",
   "metadata": {},
   "source": [
    "¿Cuántos Qubits son necesarios para el operador cuántico que representa $f(x)$?"
   ]
  },
  {
   "cell_type": "markdown",
   "metadata": {},
   "source": [
    "La función es:\n",
    "\n",
    "$$f:  B^{1} \\longrightarrow B^{1}$$\n",
    "\n",
    "\n",
    "$$x \\leadsto \\overline{x}$$\n",
    "\n",
    "\n",
    "Por lo tanto..."
   ]
  },
  {
   "cell_type": "code",
   "execution_count": 1,
   "metadata": {},
   "outputs": [],
   "source": [
    "from qiskit import QuantumCircuit, QuantumRegister, Aer, execute, ClassicalRegister\n",
    "from qiskit.visualization import plot_histogram\n",
    "import warnings\n",
    "warnings.filterwarnings(\"ignore\")\n",
    "\n",
    "#Creamos el operador oráculo\n",
    "\n",
    "\n",
    "#Creamos el circuito\n",
    "\n",
    "\n",
    "\n",
    "\n",
    "#Mostramos el circuito\n",
    "\n",
    "\n",
    "#Ejecutamos el circuito y visualizamos los resultados\n"
   ]
  },
  {
   "cell_type": "markdown",
   "metadata": {},
   "source": [
    "Como podemos ver la función es..."
   ]
  },
  {
   "cell_type": "markdown",
   "metadata": {},
   "source": [
    "<h1><font color=\"#003D7F\" size=5>Ejercicio</font></h1>"
   ]
  },
  {
   "cell_type": "markdown",
   "metadata": {},
   "source": [
    "Evaluar si la siguiente función se trata de una función constante o balanceada:\n",
    "\n",
    "$$f(x)=x\\vee\\overline{x}$$"
   ]
  },
  {
   "cell_type": "markdown",
   "metadata": {},
   "source": [
    "La función es:\n",
    "\n",
    "$$f:  B^{1} \\longrightarrow B^{1}$$\n",
    "\n",
    "\n",
    "\n",
    "$$x \\leadsto x\\vee\\overline{x}$$\n",
    "\n",
    "\n",
    "Por lo tanto..."
   ]
  },
  {
   "cell_type": "code",
   "execution_count": 2,
   "metadata": {},
   "outputs": [],
   "source": [
    "from qiskit import QuantumCircuit, QuantumRegister, Aer, execute, ClassicalRegister\n",
    "from qiskit.visualization import plot_histogram\n",
    "\n",
    "#Creamos el operador oráculo\n",
    "\n",
    "\n",
    "#Creamos el circuito\n",
    "\n",
    "\n",
    "\n",
    "\n",
    "#Mostramos el circuito\n",
    "\n",
    "\n",
    "#Ejecutamos el circuito y visualizamos los resultados\n"
   ]
  },
  {
   "cell_type": "markdown",
   "metadata": {},
   "source": [
    "Como podemos ver, hemos obtenido en la medición el valor 0, por lo tanto sabemos que la función $f(x)=x\\vee\\overline{x}$ es constante, es decir, que para cualquier valor de entrada, la salida es o bien 0 o bien 1."
   ]
  },
  {
   "cell_type": "markdown",
   "metadata": {},
   "source": [
    "<h1><font color=\"#004D7F\" size=15>Algoritmo Deutsch-Jozsa</font></h1>"
   ]
  },
  {
   "cell_type": "markdown",
   "metadata": {},
   "source": [
    " - Determina si una función es constante o balanceada.\n",
    "\n",
    " - Evalúa funciones de **n** entradas binarias y una sola salida binaria.\n",
    " \n",
    " - La función es constante si obtenermos el estado **0** en todos los qubits de entrada ($\\ket{0^{\\otimes n}}$) y es balanceada si obtenemos un estado distinto de $\\ket{0^{\\otimes n}}$, es decir, algún qubit en el estado $\\ket{1}$.\n"
   ]
  },
  {
   "cell_type": "markdown",
   "metadata": {},
   "source": [
    "<h1><font color=\"#003D7F\" size=5>Pasos del algoritmo</font></h1>"
   ]
  },
  {
   "cell_type": "markdown",
   "metadata": {},
   "source": [
    "Consiste en:\n",
    "1. Generación de la superposición de estados de los **n** qubits de entrada.\n",
    "2. La aplicación del operador Oráculo.\n",
    "3. La aplicación de puertas Hadamard a los **n** qubits de entrada."
   ]
  },
  {
   "cell_type": "markdown",
   "metadata": {},
   "source": [
    "\n",
    "<img src=\"./files/esquema-deutsch-jozsa.png\" alt=\"Circuito Deutsch-Jozsa\" align=\"center\">"
   ]
  },
  {
   "cell_type": "markdown",
   "metadata": {},
   "source": [
    "<h1><font color=\"#004D7F\" size=5>Ejercicio</font></h1>"
   ]
  },
  {
   "cell_type": "markdown",
   "metadata": {},
   "source": [
    "Comprobar si es balanceada o constante la función $f(x_{1}, x_{0})$ cuya tabla de verdad es:\n",
    "\n",
    "\n",
    "| x<sub>1</sub> | x<sub>0</sub> | Salida |\n",
    "|-------|-------|--------|\n",
    "| 0     | 0     | 1      |\n",
    "| 0     | 1     | 1      |\n",
    "| 1     | 0     | 0      |\n",
    "| 1     | 1     | 0      |"
   ]
  },
  {
   "cell_type": "markdown",
   "metadata": {},
   "source": [
    "¿Cuántos Qubits son necesarios para el operador cuántico que representa $f(x_{1}, x_{0})$?"
   ]
  },
  {
   "cell_type": "markdown",
   "metadata": {},
   "source": [
    "La función es:\n",
    "\n",
    "$$f:  B^{2} \\longrightarrow B^{1}$$\n",
    "\n",
    "\n",
    "\n",
    "$$x_{1},x_{0} \\leadsto f(x_{1},x_{0})$$\n",
    "\n",
    "\n",
    "Por lo tanto..."
   ]
  },
  {
   "cell_type": "code",
   "execution_count": 3,
   "metadata": {},
   "outputs": [],
   "source": [
    "from qiskit import QuantumCircuit, QuantumRegister, Aer, execute, ClassicalRegister\n",
    "from qiskit.visualization import plot_histogram\n",
    "\n",
    "#Creamos el operador oráculo\n",
    "\n",
    "\n",
    "#Creamos el circuito\n",
    "\n",
    "\n",
    "\n",
    "\n",
    "#Mostramos el circuito\n",
    "\n",
    "\n",
    "#Ejecutamos el circuito y visualizamos los resultados\n"
   ]
  },
  {
   "cell_type": "markdown",
   "metadata": {},
   "source": [
    "Como podemos ver..."
   ]
  },
  {
   "cell_type": "markdown",
   "metadata": {},
   "source": [
    "<h1><font color=\"#004D7F\" size=5>Ejercicio</font></h1>"
   ]
  },
  {
   "cell_type": "markdown",
   "metadata": {},
   "source": [
    "Comprobar si es balanceada o constante la función que representa el operador del fichero deutsch_jozsa_f_8_qubits.py. Para ello hay que ejecutar el fichero .py y hacer uso del circuito llamado uf_dj_8. Este operador consta de 9 qubits de entrada de los cuales 8 son las variables de la función que representa y 1 es de la salida de dicha función."
   ]
  },
  {
   "cell_type": "code",
   "execution_count": 4,
   "metadata": {},
   "outputs": [],
   "source": [
    "from qiskit import QuantumCircuit, QuantumRegister, Aer, execute, ClassicalRegister\n",
    "from qiskit.visualization import plot_histogram\n",
    "\n",
    "#Ejecutamos el archivo\n",
    "%run files/deutsch_jozsa_uf_9_qubits.py\n",
    "\n",
    "#Creamos el operador oráculo\n",
    "\n",
    "\n",
    "#Creamos el circuito\n",
    "\n",
    "\n",
    "\n",
    "\n",
    "#Mostramos el circuito\n",
    "\n",
    "\n",
    "#Ejecutamos el circuito y visualizamos los resultados\n"
   ]
  },
  {
   "cell_type": "markdown",
   "metadata": {},
   "source": [
    "<h1><font color=\"#004D7F\" size=5>Ejercicio</font></h1>"
   ]
  },
  {
   "cell_type": "markdown",
   "metadata": {},
   "source": [
    "Comprobar si es balanceada o constante la función que representa el operador del fichero deutsch_jozsa_f_8_qubits.py. Para ello hay que ejecutar el fichero .py y hacer uso del circuito llamado uf_dj_8_2. Este operador consta de 9 qubits de entrada de los cuales 8 son las variables de la función que representa y 1 es de la salida de dicha función."
   ]
  },
  {
   "cell_type": "code",
   "execution_count": 5,
   "metadata": {},
   "outputs": [],
   "source": [
    "from qiskit import QuantumCircuit, QuantumRegister, Aer, execute, ClassicalRegister\n",
    "from qiskit.visualization import plot_histogram\n",
    "\n",
    "#Ejecutamos el archivo\n",
    "%run files/deutsch_jozsa_uf_9_qubits.py\n",
    "\n",
    "#Creamos el operador oráculo\n",
    "\n",
    "\n",
    "#Creamos el circuito\n",
    "\n",
    "\n",
    "\n",
    "\n",
    "#Mostramos el circuito\n",
    "\n",
    "\n",
    "#Ejecutamos el circuito y visualizamos los resultados\n"
   ]
  },
  {
   "cell_type": "code",
   "execution_count": null,
   "metadata": {},
   "outputs": [],
   "source": []
  }
 ],
 "metadata": {
  "kernelspec": {
   "display_name": "Python 3 (ipykernel)",
   "language": "python",
   "name": "python3"
  },
  "language_info": {
   "codemirror_mode": {
    "name": "ipython",
    "version": 3
   },
   "file_extension": ".py",
   "mimetype": "text/x-python",
   "name": "python",
   "nbconvert_exporter": "python",
   "pygments_lexer": "ipython3",
   "version": "3.9.18"
  }
 },
 "nbformat": 4,
 "nbformat_minor": 4
}
